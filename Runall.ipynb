{
 "cells": [
  {
   "cell_type": "markdown",
   "metadata": {},
   "source": [
    "# Parte 2: Automatización y Entorno (60 %)"
   ]
  },
  {
   "cell_type": "markdown",
   "metadata": {},
   "source": [
    "# Configuración de directorio\n",
    "\n",
    "Utilizaremos las carpetas creadas en el Taller 1 para guardar todo el taller"
   ]
  },
  {
   "cell_type": "code",
   "execution_count": 1,
   "metadata": {},
   "outputs": [],
   "source": [
    "import os\n",
    "import pandas as pd\n",
    "import random\n",
    "import numpy as np\n",
    "import matplotlib.pyplot as plt"
   ]
  },
  {
   "cell_type": "code",
   "execution_count": null,
   "metadata": {},
   "outputs": [],
   "source": [
    "# en caso de no tener las dependencias instaladas:\n",
    "\n",
    "dependencias = [\"os\", \"pandas\", \"random\",\n",
    "                \"numpy\", \"matplotlib.pyplot\"]\n",
    "\n",
    "import sys\n",
    "import subprocess\n",
    "\n",
    "# Bucle para instalar cada librería\n",
    "for dep in dependencias:\n",
    "    subprocess.check_call([sys.executable, \"-m\", \"pip\", \"install\", dep])"
   ]
  },
  {
   "cell_type": "markdown",
   "metadata": {},
   "source": [
    "Relative path:"
   ]
  },
  {
   "cell_type": "code",
   "execution_count": 20,
   "metadata": {},
   "outputs": [],
   "source": [
    "relative_path = os.getcwd()"
   ]
  },
  {
   "cell_type": "code",
   "execution_count": 21,
   "metadata": {},
   "outputs": [
    {
     "data": {
      "text/plain": [
       "'c:\\\\Users\\\\SEBASTIAN\\\\Documents\\\\GitHub\\\\taller4-GPI\\\\proyecto'"
      ]
     },
     "execution_count": 21,
     "metadata": {},
     "output_type": "execute_result"
    }
   ],
   "source": [
    "relative_path"
   ]
  },
  {
   "cell_type": "markdown",
   "metadata": {},
   "source": [
    "Automatización de la creación del directorio de trabajo"
   ]
  },
  {
   "cell_type": "code",
   "execution_count": null,
   "metadata": {},
   "outputs": [],
   "source": [
    "def crear_estructura(relative_path):\n",
    "    # Estructura de carpetas del proyecto\n",
    "    estructura = [\n",
    "        \"proyecto/data/raw\",\n",
    "        \"proyecto/data/processed\",\n",
    "        \"proyecto/src\",\n",
    "        \"proyecto/scripts\",\n",
    "        \"proyecto/results/figures\",\n",
    "        \"proyecto/results/tables\"\n",
    "    ]\n",
    "\n",
    "    # Archivos a crear en el proyecto\n",
    "    archivos = [\n",
    "        \"proyecto/environment.yml\",\n",
    "        \"proyecto/runall.sh\",\n",
    "        \"proyecto/README.md\"\n",
    "    ]\n",
    "\n",
    "    # Crear carpetas de la estructura\n",
    "    for path in estructura:\n",
    "        ruta_completa = os.path.join(relative_path, path)\n",
    "        os.makedirs(ruta_completa, exist_ok=True)\n",
    "\n",
    "    # Crear archivos vacíos en las rutas especificadas\n",
    "    for archivo in archivos:\n",
    "        ruta_archivo = os.path.join(relative_path, archivo)\n",
    "        with open(ruta_archivo, 'w') as f:\n",
    "            pass  # Crear archivo vacío"
   ]
  },
  {
   "cell_type": "code",
   "execution_count": 7,
   "metadata": {},
   "outputs": [],
   "source": [
    "crear_estructura(relative_path)"
   ]
  },
  {
   "cell_type": "markdown",
   "metadata": {},
   "source": [
    "## Simulación de datos"
   ]
  },
  {
   "cell_type": "code",
   "execution_count": 23,
   "metadata": {},
   "outputs": [
    {
     "ename": "FileNotFoundError",
     "evalue": "[WinError 2] El sistema no puede encontrar el archivo especificado: 'c:\\\\Users\\\\SEBASTIAN\\\\Documents\\\\GitHub\\\\taller4-GPI\\\\proyecto\\\\proyecto'",
     "output_type": "error",
     "traceback": [
      "\u001b[1;31m---------------------------------------------------------------------------\u001b[0m",
      "\u001b[1;31mFileNotFoundError\u001b[0m                         Traceback (most recent call last)",
      "Cell \u001b[1;32mIn[23], line 3\u001b[0m\n\u001b[0;32m      1\u001b[0m \u001b[38;5;66;03m# Cambio de directorio para guardar archivo de simulación\u001b[39;00m\n\u001b[0;32m      2\u001b[0m \u001b[38;5;66;03m# no pude hacerlo con magic commands\u001b[39;00m\n\u001b[1;32m----> 3\u001b[0m os\u001b[38;5;241m.\u001b[39mchdir(os\u001b[38;5;241m.\u001b[39mpath\u001b[38;5;241m.\u001b[39mjoin(relative_path, \u001b[38;5;124m\"\u001b[39m\u001b[38;5;124mproyecto\u001b[39m\u001b[38;5;124m\"\u001b[39m))\n",
      "\u001b[1;31mFileNotFoundError\u001b[0m: [WinError 2] El sistema no puede encontrar el archivo especificado: 'c:\\\\Users\\\\SEBASTIAN\\\\Documents\\\\GitHub\\\\taller4-GPI\\\\proyecto\\\\proyecto'"
     ]
    }
   ],
   "source": [
    "# Cambio de directorio para guardar archivo de simulación\n",
    "# no pude hacerlo con magic commands\n",
    "os.chdir(os.path.join(relative_path, \"proyecto\"))"
   ]
  },
  {
   "cell_type": "code",
   "execution_count": 22,
   "metadata": {},
   "outputs": [
    {
     "name": "stdout",
     "output_type": "stream",
     "text": [
      "Overwriting simulated_data.py\n"
     ]
    }
   ],
   "source": [
    "%%writefile simulated_data.py\n",
    "\n",
    "# Importar librerias\n",
    "import pandas as pd\n",
    "import random\n",
    "import numpy as np\n",
    "\n",
    "# Semillas para asegurar replicabilidad\n",
    "random.seed(123)\n",
    "np.random.seed(123)\n",
    "\n",
    "# Simulación de universidades y revistas\n",
    "universidades = [\"Universidad Nacional Autónoma de México\", \"Universidad de Buenos Aires\",\n",
    "                 \"Universidade de São Paulo\", \"Pontificia Universidad Católica de Chile\",\n",
    "                 \"Universidad de los Andes\"]\n",
    "revistas = [\"Nature\", \"Science\", \"PLoS ONE\", \"Documentos CEDE\", \"Journal of Open Science\"]\n",
    "\n",
    "# Simulación de datos\n",
    "num_registros = 100\n",
    "datos = []\n",
    "\n",
    "for i in range(num_registros):\n",
    "    id_articulo = i + 1\n",
    "    # Agregar 5% de valores nulos\n",
    "    titulo = f\"Estudio sobre la ciencia abierta {i}\" if random.random() > 0.05 else np.nan\n",
    "    afiliacion = random.choice(universidades)\n",
    "    # Errores ortograficos\n",
    "    pais = random.choice([\"México\", \"Argentina\", \"Brazil\", \"Chile\", \"Colombia\", \"Peru\", \"Brasil\"\n",
    "                          , \"Argentna\"])\n",
    "    # Datos inconsistentes\n",
    "    anio_publicacion = random.choice([2020, 2021, \"2022\", \"20XX\", 2023])\n",
    "    revista = random.choice(revistas)\n",
    "    # Valores negativos (fuera de rango)\n",
    "    factor_impacto = round(random.uniform(-2, 15), 2)\n",
    "    # Valores inconsistentes\n",
    "    citas = random.choice([random.randint(0, 500), \"cien\", np.nan])\n",
    "    \n",
    "    datos.append([id_articulo, titulo, afiliacion, pais, anio_publicacion, revista,\n",
    "                  factor_impacto, citas])\n",
    "\n",
    "# Crear DataFrame\n",
    "df = pd.DataFrame(datos, columns=[\"ID\", \"Título\", \"Afiliación\", \"País\", \"Año de publicación\",\n",
    "                                  \"Revista\", \"Factor de impacto\", \"Citas\"])\n",
    "\n",
    "# Guardar datos\n",
    "ruta  = r'c:\\\\Users\\\\SEBASTIAN\\\\Documents\\\\GitHub\\\\taller4-GPI\\\\proyecto'\n",
    "ruta_guardado = os.path.join(ruta, \"data\", \"raw\", \"simulated_data.csv\")\n",
    "df.to_csv(ruta_guardado, index = False)"
   ]
  },
  {
   "cell_type": "code",
   "execution_count": 16,
   "metadata": {},
   "outputs": [
    {
     "name": "stdout",
     "output_type": "stream",
     "text": [
      "c:\\Users\\SEBASTIAN\\Documents\\GitHub\\taller4-GPI\\proyecto\n"
     ]
    }
   ],
   "source": [
    "print(relative_path)"
   ]
  },
  {
   "cell_type": "markdown",
   "metadata": {},
   "source": [
    "Crear rutina de limpieza de datos automatizada"
   ]
  },
  {
   "cell_type": "code",
   "execution_count": 10,
   "metadata": {},
   "outputs": [],
   "source": [
    "# Correr el archivo para crear la base simulada\n",
    "%run simulated_data.py"
   ]
  },
  {
   "cell_type": "code",
   "execution_count": 11,
   "metadata": {},
   "outputs": [
    {
     "data": {
      "application/vnd.microsoft.datawrangler.viewer.v0+json": {
       "columns": [
        {
         "name": "index",
         "rawType": "int64",
         "type": "integer"
        },
        {
         "name": "Unnamed: 0",
         "rawType": "int64",
         "type": "integer"
        },
        {
         "name": "ID",
         "rawType": "int64",
         "type": "integer"
        },
        {
         "name": "Título",
         "rawType": "object",
         "type": "unknown"
        },
        {
         "name": "Afiliación",
         "rawType": "object",
         "type": "string"
        },
        {
         "name": "País",
         "rawType": "object",
         "type": "string"
        },
        {
         "name": "Año de publicación",
         "rawType": "object",
         "type": "string"
        },
        {
         "name": "Revista",
         "rawType": "object",
         "type": "string"
        },
        {
         "name": "Factor de impacto",
         "rawType": "float64",
         "type": "float"
        },
        {
         "name": "Citas",
         "rawType": "object",
         "type": "unknown"
        }
       ],
       "conversionMethod": "pd.DataFrame",
       "ref": "e9a2320b-5e8c-434a-b623-58421574fd44",
       "rows": [
        [
         "0",
         "0",
         "1",
         "Estudio sobre la ciencia abierta 0",
         "Universidad Nacional Autónoma de México",
         "Brasil",
         "2022",
         "Nature",
         "12.25",
         "447"
        ],
        [
         "1",
         "1",
         "2",
         "Estudio sobre la ciencia abierta 1",
         "Universidad de los Andes",
         "Peru",
         "2022",
         "Nature",
         "0.71",
         null
        ],
        [
         "2",
         "2",
         "3",
         "Estudio sobre la ciencia abierta 2",
         "Universidad de Buenos Aires",
         "Brazil",
         "2020",
         "Documentos CEDE",
         "11.15",
         null
        ],
        [
         "3",
         "3",
         "4",
         "Estudio sobre la ciencia abierta 3",
         "Universidad Nacional Autónoma de México",
         "Peru",
         "20XX",
         "Nature",
         "13.39",
         null
        ],
        [
         "4",
         "4",
         "5",
         "Estudio sobre la ciencia abierta 4",
         "Universidad Nacional Autónoma de México",
         "Colombia",
         "20XX",
         "Journal of Open Science",
         "6.11",
         "240"
        ],
        [
         "5",
         "5",
         "6",
         "Estudio sobre la ciencia abierta 5",
         "Universidade de São Paulo",
         "Argentna",
         "2021",
         "Journal of Open Science",
         "8.86",
         "cien"
        ],
        [
         "6",
         "6",
         "7",
         null,
         "Universidad de los Andes",
         "Brasil",
         "2023",
         "Journal of Open Science",
         "13.13",
         null
        ],
        [
         "7",
         "7",
         "8",
         "Estudio sobre la ciencia abierta 7",
         "Universidade de São Paulo",
         "México",
         "2021",
         "Nature",
         "13.53",
         "cien"
        ],
        [
         "8",
         "8",
         "9",
         "Estudio sobre la ciencia abierta 8",
         "Universidade de São Paulo",
         "Brasil",
         "2020",
         "Documentos CEDE",
         "4.59",
         "cien"
        ],
        [
         "9",
         "9",
         "10",
         null,
         "Universidad de los Andes",
         "Argentina",
         "2022",
         "Nature",
         "13.23",
         "cien"
        ],
        [
         "10",
         "10",
         "11",
         "Estudio sobre la ciencia abierta 10",
         "Universidad Nacional Autónoma de México",
         "Colombia",
         "20XX",
         "Science",
         "7.25",
         "90"
        ],
        [
         "11",
         "11",
         "12",
         "Estudio sobre la ciencia abierta 11",
         "Pontificia Universidad Católica de Chile",
         "Brasil",
         "20XX",
         "Nature",
         "-1.83",
         "233"
        ],
        [
         "12",
         "12",
         "13",
         null,
         "Universidade de São Paulo",
         "Colombia",
         "20XX",
         "Documentos CEDE",
         "-1.99",
         "316"
        ],
        [
         "13",
         "13",
         "14",
         "Estudio sobre la ciencia abierta 13",
         "Universidad Nacional Autónoma de México",
         "Argentina",
         "20XX",
         "Nature",
         "11.53",
         "193"
        ],
        [
         "14",
         "14",
         "15",
         "Estudio sobre la ciencia abierta 14",
         "Pontificia Universidad Católica de Chile",
         "México",
         "2022",
         "PLoS ONE",
         "14.25",
         null
        ],
        [
         "15",
         "15",
         "16",
         "Estudio sobre la ciencia abierta 15",
         "Universidade de São Paulo",
         "México",
         "2021",
         "Documentos CEDE",
         "-0.91",
         null
        ],
        [
         "16",
         "16",
         "17",
         "Estudio sobre la ciencia abierta 16",
         "Universidad de Buenos Aires",
         "Argentina",
         "2020",
         "Journal of Open Science",
         "4.58",
         "156"
        ],
        [
         "17",
         "17",
         "18",
         "Estudio sobre la ciencia abierta 17",
         "Universidade de São Paulo",
         "Brasil",
         "2022",
         "Science",
         "7.09",
         null
        ],
        [
         "18",
         "18",
         "19",
         "Estudio sobre la ciencia abierta 18",
         "Universidad de Buenos Aires",
         "Brasil",
         "20XX",
         "Nature",
         "10.6",
         null
        ],
        [
         "19",
         "19",
         "20",
         null,
         "Pontificia Universidad Católica de Chile",
         "Argentna",
         "2022",
         "Documentos CEDE",
         "11.45",
         "14"
        ],
        [
         "20",
         "20",
         "21",
         "Estudio sobre la ciencia abierta 20",
         "Universidad de los Andes",
         "Brazil",
         "2022",
         "Journal of Open Science",
         "-0.22",
         "cien"
        ],
        [
         "21",
         "21",
         "22",
         "Estudio sobre la ciencia abierta 21",
         "Universidad de los Andes",
         "Peru",
         "2020",
         "PLoS ONE",
         "13.81",
         "124"
        ],
        [
         "22",
         "22",
         "23",
         "Estudio sobre la ciencia abierta 22",
         "Universidade de São Paulo",
         "Brasil",
         "2020",
         "Journal of Open Science",
         "-0.63",
         null
        ],
        [
         "23",
         "23",
         "24",
         "Estudio sobre la ciencia abierta 23",
         "Universidad Nacional Autónoma de México",
         "Chile",
         "2022",
         "Journal of Open Science",
         "1.93",
         "cien"
        ],
        [
         "24",
         "24",
         "25",
         "Estudio sobre la ciencia abierta 24",
         "Universidad de los Andes",
         "Brazil",
         "2023",
         "Science",
         "11.36",
         "cien"
        ],
        [
         "25",
         "25",
         "26",
         "Estudio sobre la ciencia abierta 25",
         "Universidad Nacional Autónoma de México",
         "Colombia",
         "2023",
         "Documentos CEDE",
         "3.79",
         "468"
        ],
        [
         "26",
         "26",
         "27",
         "Estudio sobre la ciencia abierta 26",
         "Universidad de Buenos Aires",
         "México",
         "2023",
         "Journal of Open Science",
         "14.5",
         null
        ],
        [
         "27",
         "27",
         "28",
         "Estudio sobre la ciencia abierta 27",
         "Universidad Nacional Autónoma de México",
         "Peru",
         "20XX",
         "PLoS ONE",
         "14.28",
         "cien"
        ],
        [
         "28",
         "28",
         "29",
         "Estudio sobre la ciencia abierta 28",
         "Universidad de Buenos Aires",
         "Argentna",
         "2022",
         "Science",
         "11.95",
         "cien"
        ],
        [
         "29",
         "29",
         "30",
         "Estudio sobre la ciencia abierta 29",
         "Universidad Nacional Autónoma de México",
         "Brasil",
         "20XX",
         "Journal of Open Science",
         "2.51",
         "473"
        ],
        [
         "30",
         "30",
         "31",
         "Estudio sobre la ciencia abierta 30",
         "Pontificia Universidad Católica de Chile",
         "Peru",
         "2020",
         "PLoS ONE",
         "0.08",
         null
        ],
        [
         "31",
         "31",
         "32",
         "Estudio sobre la ciencia abierta 31",
         "Universidade de São Paulo",
         "México",
         "20XX",
         "Nature",
         "7.96",
         "152"
        ],
        [
         "32",
         "32",
         "33",
         "Estudio sobre la ciencia abierta 32",
         "Universidade de São Paulo",
         "Chile",
         "20XX",
         "PLoS ONE",
         "12.29",
         null
        ],
        [
         "33",
         "33",
         "34",
         "Estudio sobre la ciencia abierta 33",
         "Pontificia Universidad Católica de Chile",
         "Colombia",
         "2022",
         "Nature",
         "1.1",
         "cien"
        ],
        [
         "34",
         "34",
         "35",
         "Estudio sobre la ciencia abierta 34",
         "Universidad de Buenos Aires",
         "Argentna",
         "2023",
         "Nature",
         "6.0",
         "277"
        ],
        [
         "35",
         "35",
         "36",
         "Estudio sobre la ciencia abierta 35",
         "Universidade de São Paulo",
         "Chile",
         "2023",
         "Nature",
         "5.88",
         null
        ],
        [
         "36",
         "36",
         "37",
         "Estudio sobre la ciencia abierta 36",
         "Universidade de São Paulo",
         "México",
         "2022",
         "Documentos CEDE",
         "1.87",
         "454"
        ],
        [
         "37",
         "37",
         "38",
         "Estudio sobre la ciencia abierta 37",
         "Universidade de São Paulo",
         "Brazil",
         "20XX",
         "PLoS ONE",
         "5.22",
         "310"
        ],
        [
         "38",
         "38",
         "39",
         "Estudio sobre la ciencia abierta 38",
         "Universidad de Buenos Aires",
         "Chile",
         "2020",
         "PLoS ONE",
         "6.92",
         null
        ],
        [
         "39",
         "39",
         "40",
         "Estudio sobre la ciencia abierta 39",
         "Universidad de Buenos Aires",
         "Colombia",
         "20XX",
         "Documentos CEDE",
         "1.81",
         "270"
        ],
        [
         "40",
         "40",
         "41",
         "Estudio sobre la ciencia abierta 40",
         "Universidad de los Andes",
         "Colombia",
         "2021",
         "Journal of Open Science",
         "14.0",
         null
        ],
        [
         "41",
         "41",
         "42",
         "Estudio sobre la ciencia abierta 41",
         "Pontificia Universidad Católica de Chile",
         "Argentna",
         "2020",
         "Nature",
         "7.69",
         null
        ],
        [
         "42",
         "42",
         "43",
         "Estudio sobre la ciencia abierta 42",
         "Universidade de São Paulo",
         "Brazil",
         "20XX",
         "Science",
         "1.31",
         "108"
        ],
        [
         "43",
         "43",
         "44",
         "Estudio sobre la ciencia abierta 43",
         "Universidad de Buenos Aires",
         "Chile",
         "2020",
         "Documentos CEDE",
         "13.76",
         "cien"
        ],
        [
         "44",
         "44",
         "45",
         "Estudio sobre la ciencia abierta 44",
         "Universidad de los Andes",
         "México",
         "2020",
         "Science",
         "10.42",
         "cien"
        ],
        [
         "45",
         "45",
         "46",
         "Estudio sobre la ciencia abierta 45",
         "Universidad de Buenos Aires",
         "Colombia",
         "2020",
         "PLoS ONE",
         "9.41",
         "cien"
        ],
        [
         "46",
         "46",
         "47",
         "Estudio sobre la ciencia abierta 46",
         "Universidad Nacional Autónoma de México",
         "Peru",
         "2021",
         "Documentos CEDE",
         "1.82",
         null
        ],
        [
         "47",
         "47",
         "48",
         "Estudio sobre la ciencia abierta 47",
         "Pontificia Universidad Católica de Chile",
         "Brasil",
         "2023",
         "Science",
         "4.63",
         "cien"
        ],
        [
         "48",
         "48",
         "49",
         "Estudio sobre la ciencia abierta 48",
         "Universidade de São Paulo",
         "Brazil",
         "20XX",
         "Nature",
         "0.14",
         "cien"
        ],
        [
         "49",
         "49",
         "50",
         "Estudio sobre la ciencia abierta 49",
         "Universidad Nacional Autónoma de México",
         "Argentna",
         "2023",
         "PLoS ONE",
         "2.91",
         "cien"
        ]
       ],
       "shape": {
        "columns": 9,
        "rows": 100
       }
      },
      "text/html": [
       "<div>\n",
       "<style scoped>\n",
       "    .dataframe tbody tr th:only-of-type {\n",
       "        vertical-align: middle;\n",
       "    }\n",
       "\n",
       "    .dataframe tbody tr th {\n",
       "        vertical-align: top;\n",
       "    }\n",
       "\n",
       "    .dataframe thead th {\n",
       "        text-align: right;\n",
       "    }\n",
       "</style>\n",
       "<table border=\"1\" class=\"dataframe\">\n",
       "  <thead>\n",
       "    <tr style=\"text-align: right;\">\n",
       "      <th></th>\n",
       "      <th>Unnamed: 0</th>\n",
       "      <th>ID</th>\n",
       "      <th>Título</th>\n",
       "      <th>Afiliación</th>\n",
       "      <th>País</th>\n",
       "      <th>Año de publicación</th>\n",
       "      <th>Revista</th>\n",
       "      <th>Factor de impacto</th>\n",
       "      <th>Citas</th>\n",
       "    </tr>\n",
       "  </thead>\n",
       "  <tbody>\n",
       "    <tr>\n",
       "      <th>0</th>\n",
       "      <td>0</td>\n",
       "      <td>1</td>\n",
       "      <td>Estudio sobre la ciencia abierta 0</td>\n",
       "      <td>Universidad Nacional Autónoma de México</td>\n",
       "      <td>Brasil</td>\n",
       "      <td>2022</td>\n",
       "      <td>Nature</td>\n",
       "      <td>12.25</td>\n",
       "      <td>447</td>\n",
       "    </tr>\n",
       "    <tr>\n",
       "      <th>1</th>\n",
       "      <td>1</td>\n",
       "      <td>2</td>\n",
       "      <td>Estudio sobre la ciencia abierta 1</td>\n",
       "      <td>Universidad de los Andes</td>\n",
       "      <td>Peru</td>\n",
       "      <td>2022</td>\n",
       "      <td>Nature</td>\n",
       "      <td>0.71</td>\n",
       "      <td>NaN</td>\n",
       "    </tr>\n",
       "    <tr>\n",
       "      <th>2</th>\n",
       "      <td>2</td>\n",
       "      <td>3</td>\n",
       "      <td>Estudio sobre la ciencia abierta 2</td>\n",
       "      <td>Universidad de Buenos Aires</td>\n",
       "      <td>Brazil</td>\n",
       "      <td>2020</td>\n",
       "      <td>Documentos CEDE</td>\n",
       "      <td>11.15</td>\n",
       "      <td>NaN</td>\n",
       "    </tr>\n",
       "    <tr>\n",
       "      <th>3</th>\n",
       "      <td>3</td>\n",
       "      <td>4</td>\n",
       "      <td>Estudio sobre la ciencia abierta 3</td>\n",
       "      <td>Universidad Nacional Autónoma de México</td>\n",
       "      <td>Peru</td>\n",
       "      <td>20XX</td>\n",
       "      <td>Nature</td>\n",
       "      <td>13.39</td>\n",
       "      <td>NaN</td>\n",
       "    </tr>\n",
       "    <tr>\n",
       "      <th>4</th>\n",
       "      <td>4</td>\n",
       "      <td>5</td>\n",
       "      <td>Estudio sobre la ciencia abierta 4</td>\n",
       "      <td>Universidad Nacional Autónoma de México</td>\n",
       "      <td>Colombia</td>\n",
       "      <td>20XX</td>\n",
       "      <td>Journal of Open Science</td>\n",
       "      <td>6.11</td>\n",
       "      <td>240</td>\n",
       "    </tr>\n",
       "    <tr>\n",
       "      <th>...</th>\n",
       "      <td>...</td>\n",
       "      <td>...</td>\n",
       "      <td>...</td>\n",
       "      <td>...</td>\n",
       "      <td>...</td>\n",
       "      <td>...</td>\n",
       "      <td>...</td>\n",
       "      <td>...</td>\n",
       "      <td>...</td>\n",
       "    </tr>\n",
       "    <tr>\n",
       "      <th>95</th>\n",
       "      <td>95</td>\n",
       "      <td>96</td>\n",
       "      <td>Estudio sobre la ciencia abierta 95</td>\n",
       "      <td>Universidad de Buenos Aires</td>\n",
       "      <td>Colombia</td>\n",
       "      <td>2022</td>\n",
       "      <td>Journal of Open Science</td>\n",
       "      <td>3.28</td>\n",
       "      <td>cien</td>\n",
       "    </tr>\n",
       "    <tr>\n",
       "      <th>96</th>\n",
       "      <td>96</td>\n",
       "      <td>97</td>\n",
       "      <td>Estudio sobre la ciencia abierta 96</td>\n",
       "      <td>Universidad Nacional Autónoma de México</td>\n",
       "      <td>Argentina</td>\n",
       "      <td>2023</td>\n",
       "      <td>Science</td>\n",
       "      <td>14.61</td>\n",
       "      <td>NaN</td>\n",
       "    </tr>\n",
       "    <tr>\n",
       "      <th>97</th>\n",
       "      <td>97</td>\n",
       "      <td>98</td>\n",
       "      <td>Estudio sobre la ciencia abierta 97</td>\n",
       "      <td>Pontificia Universidad Católica de Chile</td>\n",
       "      <td>Brasil</td>\n",
       "      <td>20XX</td>\n",
       "      <td>Nature</td>\n",
       "      <td>11.58</td>\n",
       "      <td>cien</td>\n",
       "    </tr>\n",
       "    <tr>\n",
       "      <th>98</th>\n",
       "      <td>98</td>\n",
       "      <td>99</td>\n",
       "      <td>Estudio sobre la ciencia abierta 98</td>\n",
       "      <td>Pontificia Universidad Católica de Chile</td>\n",
       "      <td>Argentna</td>\n",
       "      <td>2020</td>\n",
       "      <td>Documentos CEDE</td>\n",
       "      <td>-0.75</td>\n",
       "      <td>cien</td>\n",
       "    </tr>\n",
       "    <tr>\n",
       "      <th>99</th>\n",
       "      <td>99</td>\n",
       "      <td>100</td>\n",
       "      <td>Estudio sobre la ciencia abierta 99</td>\n",
       "      <td>Universidade de São Paulo</td>\n",
       "      <td>Argentina</td>\n",
       "      <td>2020</td>\n",
       "      <td>PLoS ONE</td>\n",
       "      <td>0.97</td>\n",
       "      <td>42</td>\n",
       "    </tr>\n",
       "  </tbody>\n",
       "</table>\n",
       "<p>100 rows × 9 columns</p>\n",
       "</div>"
      ],
      "text/plain": [
       "    Unnamed: 0   ID                               Título  \\\n",
       "0            0    1   Estudio sobre la ciencia abierta 0   \n",
       "1            1    2   Estudio sobre la ciencia abierta 1   \n",
       "2            2    3   Estudio sobre la ciencia abierta 2   \n",
       "3            3    4   Estudio sobre la ciencia abierta 3   \n",
       "4            4    5   Estudio sobre la ciencia abierta 4   \n",
       "..         ...  ...                                  ...   \n",
       "95          95   96  Estudio sobre la ciencia abierta 95   \n",
       "96          96   97  Estudio sobre la ciencia abierta 96   \n",
       "97          97   98  Estudio sobre la ciencia abierta 97   \n",
       "98          98   99  Estudio sobre la ciencia abierta 98   \n",
       "99          99  100  Estudio sobre la ciencia abierta 99   \n",
       "\n",
       "                                  Afiliación       País Año de publicación  \\\n",
       "0    Universidad Nacional Autónoma de México     Brasil               2022   \n",
       "1                   Universidad de los Andes       Peru               2022   \n",
       "2                Universidad de Buenos Aires     Brazil               2020   \n",
       "3    Universidad Nacional Autónoma de México       Peru               20XX   \n",
       "4    Universidad Nacional Autónoma de México   Colombia               20XX   \n",
       "..                                       ...        ...                ...   \n",
       "95               Universidad de Buenos Aires   Colombia               2022   \n",
       "96   Universidad Nacional Autónoma de México  Argentina               2023   \n",
       "97  Pontificia Universidad Católica de Chile     Brasil               20XX   \n",
       "98  Pontificia Universidad Católica de Chile   Argentna               2020   \n",
       "99                 Universidade de São Paulo  Argentina               2020   \n",
       "\n",
       "                    Revista  Factor de impacto Citas  \n",
       "0                    Nature              12.25   447  \n",
       "1                    Nature               0.71   NaN  \n",
       "2           Documentos CEDE              11.15   NaN  \n",
       "3                    Nature              13.39   NaN  \n",
       "4   Journal of Open Science               6.11   240  \n",
       "..                      ...                ...   ...  \n",
       "95  Journal of Open Science               3.28  cien  \n",
       "96                  Science              14.61   NaN  \n",
       "97                   Nature              11.58  cien  \n",
       "98          Documentos CEDE              -0.75  cien  \n",
       "99                 PLoS ONE               0.97    42  \n",
       "\n",
       "[100 rows x 9 columns]"
      ]
     },
     "execution_count": 11,
     "metadata": {},
     "output_type": "execute_result"
    }
   ],
   "source": [
    "datos = pd.read_csv(ruta + \"\\datos\\simulated_data.csv\", encoding = \"utf-8-sig\")\n",
    "datos"
   ]
  },
  {
   "cell_type": "code",
   "execution_count": 87,
   "metadata": {},
   "outputs": [],
   "source": [
    "# Cambio de directorio para guardar archivo de simulación\n",
    "# no pude hacerlo con magic commands\n",
    "os.chdir(ruta + r'\\codigo')"
   ]
  },
  {
   "cell_type": "code",
   "execution_count": 88,
   "metadata": {},
   "outputs": [
    {
     "name": "stdout",
     "output_type": "stream",
     "text": [
      "Overwriting data_cleaning.py\n"
     ]
    }
   ],
   "source": [
    "%%writefile data_cleaning.py\n",
    "\n",
    "# Importar librerias\n",
    "import pandas as pd\n",
    "import numpy as np\n",
    "\n",
    "# Definir ruta de trabajo\n",
    "ruta = r'C:\\Users\\SEBASTIAN\\OneDrive - Universidad de los andes\\Universidad\\Maestria\\2025-1\\Ciencia Abierta\\proyecto_investigacion'\n",
    "\n",
    "# Cargar datos\n",
    "datos = pd.read_csv(ruta + \"\\datos\\simulated_data.csv\", encoding = \"utf-8-sig\")\n",
    "\n",
    "# Eliminar posibles duplicados\n",
    "datos = datos.drop_duplicates()\n",
    "\n",
    "# Corregir errores ortograficos\n",
    "datos[\"País\"] = datos[\"País\"].replace({\"Argentna\": \"Argentina\",\n",
    "                                       \"Brazil\": \"Brasil\"})\n",
    "\n",
    "# Limpiar la variable años\n",
    "def limpiar_anio(valor):\n",
    "    try:\n",
    "        return int(valor)\n",
    "    except:\n",
    "        return np.nan\n",
    "\n",
    "datos[\"Año de publicación\"] = datos[\"Año de publicación\"].apply(limpiar_anio)\n",
    "\n",
    "# Limpiar citas\n",
    "def limpiar_citas(valor):\n",
    "    if isinstance(valor, str):\n",
    "        return np.nan if not valor.isdigit() else int(valor)\n",
    "    return valor\n",
    "\n",
    "datos[\"Citas\"] = datos[\"Citas\"].apply(limpiar_citas)\n",
    "\n",
    "# Reemplazar valores fuera de rango\n",
    "datos[\"Factor de impacto\"] = datos[\"Factor de impacto\"].apply(lambda x: x if x >= 0 else np.nan)\n",
    "\n",
    "# Eliminar missing values\n",
    "datos = datos.dropna(subset=[\"Título\", \"Año de publicación\", \"Citas\",\n",
    "                       \"Factor de impacto\"])\n",
    "\n",
    "# Guardar datos limpios\n",
    "datos.to_csv(ruta + \"\\datos\\clear_data.csv\", index = False, encoding = \"utf-8-sig\")"
   ]
  },
  {
   "cell_type": "code",
   "execution_count": 89,
   "metadata": {},
   "outputs": [],
   "source": [
    "# Correr el script para guardar los datos limpios\n",
    "%run data_cleaning.py"
   ]
  },
  {
   "cell_type": "markdown",
   "metadata": {},
   "source": [
    "Generar graficas"
   ]
  },
  {
   "cell_type": "code",
   "execution_count": 90,
   "metadata": {},
   "outputs": [],
   "source": [
    "# Cambio de directorio para guardar archivo de simulación\n",
    "# no pude hacerlo con magic commands\n",
    "os.chdir(ruta + r'\\codigo')"
   ]
  },
  {
   "cell_type": "code",
   "execution_count": 91,
   "metadata": {},
   "outputs": [
    {
     "name": "stdout",
     "output_type": "stream",
     "text": [
      "Overwriting graphs.py\n"
     ]
    }
   ],
   "source": [
    "%%writefile graphs.py\n",
    "\n",
    "import matplotlib.pyplot as plt\n",
    "import pandas as pd\n",
    "\n",
    "# Definir ruta de trabajo\n",
    "ruta = r'C:\\Users\\SEBASTIAN\\OneDrive - Universidad de los andes\\Universidad\\Maestria\\2025-1\\Ciencia Abierta\\proyecto_investigacion'\n",
    "\n",
    "data = pd.read_csv(ruta + \"\\datos\\clear_data.csv\", encoding = \"utf-8-sig\")\n",
    "\n",
    "fig, ax = plt.subplots()\n",
    "ax.scatter(data['Citas'], data['Factor de impacto'])\n",
    "ax.set_title('Relación Factor de impacto y citas')\n",
    "ax.set_xlabel('Citas')\n",
    "ax.set_ylabel('Factor de impacto')\n",
    "plt.show()\n",
    "fig.savefig(ruta + r'\\documentos\\figure1.pdf')"
   ]
  },
  {
   "cell_type": "code",
   "execution_count": 92,
   "metadata": {},
   "outputs": [
    {
     "data": {
      "image/png": "[encoded data removed]",
      "text/plain": [
       "<Figure size 640x480 with 1 Axes>"
      ]
     },
     "metadata": {},
     "output_type": "display_data"
    }
   ],
   "source": [
    "%run graphs.py"
   ]
  }
 ],
 "metadata": {
  "kernelspec": {
   "display_name": "base",
   "language": "python",
   "name": "python3"
  },
  "language_info": {
   "codemirror_mode": {
    "name": "ipython",
    "version": 3
   },
   "file_extension": ".py",
   "mimetype": "text/x-python",
   "name": "python",
   "nbconvert_exporter": "python",
   "pygments_lexer": "ipython3",
   "version": "3.11.5"
  }
 },
 "nbformat": 4,
 "nbformat_minor": 2
}
